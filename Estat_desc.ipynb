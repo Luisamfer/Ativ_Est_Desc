{
  "nbformat": 4,
  "nbformat_minor": 0,
  "metadata": {
    "colab": {
      "provenance": [],
      "toc_visible": true,
      "authorship_tag": "ABX9TyN66fSNG2bfpSbu3hF4v84Q",
      "include_colab_link": true
    },
    "kernelspec": {
      "name": "python3",
      "display_name": "Python 3"
    },
    "language_info": {
      "name": "python"
    }
  },
  "cells": [
    {
      "cell_type": "markdown",
      "metadata": {
        "id": "view-in-github",
        "colab_type": "text"
      },
      "source": [
        "<a href=\"https://colab.research.google.com/github/Luisamfer/aula03/blob/main/Estat_desc.ipynb\" target=\"_parent\"><img src=\"https://colab.research.google.com/assets/colab-badge.svg\" alt=\"Open In Colab\"/></a>"
      ]
    },
    {
      "cell_type": "code",
      "execution_count": null,
      "metadata": {
        "id": "rzu0_aWq3StT"
      },
      "outputs": [],
      "source": [
        "#Definição da população#\n",
        "#PopulaçÃo Acessível: Agricultores Familiares que realizaram o Cadastro Nacional da Agricultura Familiar#\n",
        "#Amostragem Não Probabilística Intencional: Agricultores da região Nordeste, tendo em vista a finalidade do estudo#\n",
        "#Variável a ser analisada: Renda #\n",
        "#Variável Quantitativa Contínua #\n",
        "# Distribuição de Frequencia:   ABSOLUTA / RELATIVA / FREQ.ACUMULADA\n",
        "# Medidas de Tendência Central: MÉDIA / MEDIANA / MODA\n",
        "# Medidas de Dispersão: VARIÂNCIA / DESVIO PADRÃO / AMPLITUDE / INTERVALO INTERQUARTÍLICO\n",
        "# Medidas de Posição: Quartis / DEcis / Percentis / Quantis\n",
        "# Medidas de Forma: Curtose / Assimetria\n",
        "# Medidas de Relação: Covarância / Correlação\n",
        "X Viés de sele\n",
        "\n"
      ]
    }
  ]
}