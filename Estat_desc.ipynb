{
  "nbformat": 4,
  "nbformat_minor": 0,
  "metadata": {
    "colab": {
      "provenance": [],
      "authorship_tag": "ABX9TyP9025gDIVWsjXK48FmSfcZ",
      "include_colab_link": true
    },
    "kernelspec": {
      "name": "python3",
      "display_name": "Python 3"
    },
    "language_info": {
      "name": "python"
    }
  },
  "cells": [
    {
      "cell_type": "markdown",
      "metadata": {
        "id": "view-in-github",
        "colab_type": "text"
      },
      "source": [
        "<a href=\"https://colab.research.google.com/github/Luisamfer/Ativ_Est_Desc/blob/main/Estat_desc.ipynb\" target=\"_parent\"><img src=\"https://colab.research.google.com/assets/colab-badge.svg\" alt=\"Open In Colab\"/></a>"
      ]
    },
    {
      "cell_type": "markdown",
      "source": [
        "#INFORMAÇÕES DO CADASTRO NACIONAL DA AGRICULTURA FAMILIAR#\n",
        "#**Definição da população**#\n",
        "#*População Acessível*: Agricultores Familiares que realizaram o Cadastro Nacional da Agricultura Familiar#\n",
        "#*Objetivo do estudo*: Caracterizar os agricultores familiares cadastrados, permitindo verificação posterior quanto a relação entre e perfil de agricultores e produção #\n"
      ],
      "metadata": {
        "id": "hHGCzK7HuZkV"
      }
    },
    {
      "cell_type": "code",
      "execution_count": 7,
      "metadata": {
        "id": "rzu0_aWq3StT"
      },
      "outputs": [],
      "source": [
        "# Importando as bibliotecas necessárias para análises\n",
        "import pandas as pd\n",
        "import numpy as np\n",
        "import matplotlib.pyplot as plt\n",
        "import matplotlib.ticker as ticker\n",
        "import seaborn as sns\n",
        "import statistics as st\n",
        "from datetime import datetime"
      ]
    },
    {
      "cell_type": "code",
      "source": [
        "# Importando o arquivo pelo Google Drive\n",
        "from google.colab import drive\n",
        "\n",
        "# Carregando arquivos\n",
        "drive.mount('/content/drive')"
      ],
      "metadata": {
        "id": "pZ8YwAPaEI3d"
      },
      "execution_count": 8,
      "outputs": []
    },
    {
      "cell_type": "code",
      "source": [
        "#Carregando o arquivo de MEMBROS da UFPA\n",
        "df_membros = pd.read_csv(\"/content/drive/My Drive/Colab Notebooks/MBA_Est_Desc_dados/MEMBROS.csv\", sep=';', encoding='utf-8', dtype={\n",
        "    \"CAF\":\"string\",\n",
        "    \"CODIGO_PESSOA\":\"string\",\n",
        "    \"SEXO\":\"category\",\n",
        "    \"ESCOLARIDADE\":\"category\",\n",
        "    \"MAO_DE_OBRA_FAMILIAR\":\"category\"\n",
        "    })\n",
        "\n",
        "### Tendo em vista que já conheço o banco de dados e suas variáveis, já identifiquei os formatos necessários na importação. ###\n",
        "\n",
        "# Verificando se os dados foram importados corretamente (quantidade e formatos)\n",
        "df_membros.info()\n"
      ],
      "metadata": {
        "id": "4pY77JsjRQtT",
        "collapsed": true
      },
      "execution_count": null,
      "outputs": []
    },
    {
      "cell_type": "code",
      "source": [
        "# Convertendo a variável DATA_NASCIMENTO para formato datetime\n",
        "df_membros[\"DATA_NASCIMENTO\"] = pd.to_datetime(df_membros[\"DATA_NASCIMENTO\"], dayfirst=True, errors='coerce')\n",
        "\n",
        "# Calculando a idade de cada MEMBRO da UFPA\n",
        "hoje = datetime.today()\n",
        "df_membros[\"IDADE\"] = df_membros[\"DATA_NASCIMENTO\"].apply(lambda x: int(hoje.year - x.year - ((hoje.month, hoje.day) < (x.month, x.day))) if pd.notnull(x) else None)\n",
        "\n",
        "#Visualizando a criação da nova variável\n",
        "df_membros.head()\n",
        "\n",
        "#Obtendo resumo estatístico da base importada\n",
        "df_membros.describe()"
      ],
      "metadata": {
        "id": "_wGeIIH7w1dR"
      },
      "execution_count": null,
      "outputs": []
    },
    {
      "cell_type": "code",
      "source": [
        "#Criando a variável FAIXA ETÁRIA para melhor classificação das idades.\n",
        "def definir_faixa_etaria(IDADE):\n",
        "  if IDADE <= 15:\n",
        "    return \"Menor de 15 anos\"\n",
        "  elif IDADE <= 29:\n",
        "    return \"16 a 29 anos\"\n",
        "  elif IDADE <= 39:\n",
        "    return \"30 a 39 anos\"\n",
        "  elif IDADE <= 49:\n",
        "    return \"40 a 49 anos\"\n",
        "  elif IDADE <= 59:\n",
        "    return \"50 a 59 anos\"\n",
        "  elif IDADE <= 69:\n",
        "    return \"60 a 69 anos\"\n",
        "  elif IDADE <= 79:\n",
        "    return \"70 a 79 anos\"\n",
        "  elif IDADE <= 89:\n",
        "    return \"80 a 89 anos\"\n",
        "  elif IDADE > 89:\n",
        "    return \"Mais de 90 anos\"\n",
        "\n",
        "  return pd.NA\n",
        "\n",
        "df_membros['faixa_etaria'] = df_membros[\"IDADE\"].apply(definir_faixa_etaria)\n",
        "df_membros.head()"
      ],
      "metadata": {
        "id": "mu6sKPvOetz0"
      },
      "execution_count": null,
      "outputs": []
    },
    {
      "cell_type": "code",
      "source": [
        "#ORDEM PARA APRESENTAÇÃO DA FAIXA ETÁRIA\n",
        "ordem_faixa = [\"Menor de 15 anos\", \"16 a 29 anos\", \"30 a 39 anos\", \"40 a 49 anos\", \"50 a 59 anos\", \"60 a 69 anos\", \"70 a 79 anos\", \"80 a 89 anos\", \"Mais de 90 anos\"]\n",
        "\n",
        "#TABELA DE FREQUENCIA DA VARIÁVEL \"FAIXA ETÁRIA\"\n",
        "df_membros[\"faixa_etaria\"] = pd.Categorical(df_membros[\"faixa_etaria\"], categories=ordem_faixa, ordered=True)\n",
        "frequencia_fx_etaria = df_membros[\"faixa_etaria\"].value_counts().sort_index()\n",
        "print(frequencia_fx_etaria)"
      ],
      "metadata": {
        "id": "9X4-I_Vukcol"
      },
      "execution_count": null,
      "outputs": []
    },
    {
      "cell_type": "code",
      "source": [
        "#TABELA DE FREQUENCIA CRUZADA DA VARIÁVEL FAIXA ETÁRIA E INFORMAÇÃO DE MÃO DE OBRA FAMILIAR\n",
        "tabela_cruzada = pd.crosstab(df_membros[\"faixa_etaria\"], df_membros[\"MAO_DE_OBRA_FAMILIAR\"], margins=True, margins_name=\"Total\").sort_index()\n",
        "print(tabela_cruzada)"
      ],
      "metadata": {
        "id": "Ca5St6wuntbR"
      },
      "execution_count": null,
      "outputs": []
    },
    {
      "cell_type": "code",
      "source": [
        "# CRIANDO HISTOGRAMA PARA AS IDADES DOS AGRICULTORES FAMILIARES\n",
        "idades = df_membros[\"IDADE\"]\n",
        "plt.figure(figsize=(8, 5))  # Ajusta o tamanho do gráfico\n",
        "plt.hist(idades, bins=20, color=\"skyblue\", edgecolor=\"black\", alpha=0.7)  # Personalização\n",
        "\n",
        "# Ajustando o eixo Y para escala de 100.000\n",
        "plt.gca().get_yaxis().set_major_formatter(ticker.FuncFormatter(lambda x, _: f'{int(x/100000)}x100k'))\n",
        "\n",
        "# Adicionando rótulos e título\n",
        "plt.xlabel(\"Idade\", fontsize=12)\n",
        "plt.ylabel(\"Frequência (em centenas de milhares)\", fontsize=12)\n",
        "plt.title(\"Distribuição de Idades\", fontsize=14)\n",
        "\n",
        "# Adicionando uma grade\n",
        "plt.grid(axis=\"y\", linestyle=\"--\", alpha=0.7)\n",
        "\n",
        "# Exibindo o gráfico\n",
        "plt.show()"
      ],
      "metadata": {
        "id": "SiMJKJi-lYyl"
      },
      "execution_count": null,
      "outputs": []
    },
    {
      "cell_type": "code",
      "source": [
        "#CRIANDO UM BOXPLOT PARA VERIFICAR A DISTRIBUIÇÃO DOS DADOS E OUTLIERS\n",
        "plt.boxplot(idades, vert=False)\n",
        "plt.title(\"Boxplot da Distribuição das idades\")\n",
        "plt.xlabel(\"Idade\")\n",
        "plt.show()"
      ],
      "metadata": {
        "id": "Y7L1ZCjvti9R"
      },
      "execution_count": null,
      "outputs": []
    },
    {
      "cell_type": "code",
      "source": [
        "# Carregando arquivo de RENDA\n",
        "drive.mount('/content/drive')\n",
        "\n",
        "df_renda = pd.read_csv(\"/content/drive/My Drive/Colab Notebooks/MBA_Est_Desc_dados/RENDA.csv\", sep=';', encoding='utf-8', dtype={\n",
        "    \"CAF\":\"string\",\n",
        "    \"TIPO_RENDA\":\"string\",\n",
        "    \"CATEGORIA_PRODUTO\":\"string\",\n",
        "    \"PRODUTOL\":\"string\",\n",
        "    \"VALOR_PRODUTO\":\"float\"\n",
        "}, decimal=\",\")\n",
        "\n",
        "df_renda.info()\n",
        "\n"
      ],
      "metadata": {
        "id": "GYGF2zDIkTlZ"
      },
      "execution_count": null,
      "outputs": []
    },
    {
      "cell_type": "code",
      "source": [
        "df_renda.describe()"
      ],
      "metadata": {
        "id": "dSdqBj9wd2IU"
      },
      "execution_count": null,
      "outputs": []
    },
    {
      "cell_type": "code",
      "source": [
        "# Carregando arquivo de ÁREA\n",
        "#drive.mount('/content/drive')\n",
        "\n",
        "#df_area = pd.read_csv(\"/content/drive/My Drive/Colab Notebooks/MBA_Est_Desc_dados/AREA.csv\", sep=';', encoding='utf-8', dtype={\n",
        "#    \"CAF\":\"string\",\n",
        "#   \"UF\":\"string\",\n",
        "#   \"MUNICIPIO\":\"string\",\n",
        "#   \"IMOVEL_PRINCIPAL\":\"category\",\n",
        "#   \"USO_TERRA\":\"category\"\n",
        "#})\n",
        "\n",
        "#df_area.info()\n",
        "#df_area.describe()\n"
      ],
      "metadata": {
        "id": "_KmTohRBjvPW"
      },
      "execution_count": null,
      "outputs": []
    }
  ]
}