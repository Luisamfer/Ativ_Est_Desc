{
  "nbformat": 4,
  "nbformat_minor": 0,
  "metadata": {
    "colab": {
      "provenance": [],
      "authorship_tag": "ABX9TyO13I4FwwdhiN2Ry/R6nsW/",
      "include_colab_link": true
    },
    "kernelspec": {
      "name": "python3",
      "display_name": "Python 3"
    },
    "language_info": {
      "name": "python"
    }
  },
  "cells": [
    {
      "cell_type": "markdown",
      "metadata": {
        "id": "view-in-github",
        "colab_type": "text"
      },
      "source": [
        "<a href=\"https://colab.research.google.com/github/Luisamfer/Ativ_Est_Desc/blob/main/Estat_desc.ipynb\" target=\"_parent\"><img src=\"https://colab.research.google.com/assets/colab-badge.svg\" alt=\"Open In Colab\"/></a>"
      ]
    },
    {
      "cell_type": "markdown",
      "source": [
        "#Definição da população#\n",
        "#População Acessível: Agricultores Familiares que realizaram o Cadastro Nacional da Agricultura Familiar#\n",
        "#Amostragem Não Probabilística Intencional: Agricultores da região Nordeste, tendo em vista a finalidade do estudo#\n",
        "#Variável a ser analisada: Renda #\n",
        "#Variável Quantitativa Contínua #\n",
        "# Distribuição de Frequencia:   ABSOLUTA / RELATIVA / FREQ.ACUMULADA\n",
        "# Medidas de Tendência Central: MÉDIA / MEDIANA / MODA\n",
        "# Medidas de Dispersão: VARIÂNCIA / DESVIO PADRÃO / AMPLITUDE / INTERVALO INTERQUARTÍLICO\n",
        "# Medidas de Posição: Quartis / DEcis / Percentis / Quantis\n",
        "# Medidas de Forma: Curtose / Assimetria\n",
        "# Medidas de Relação: Covarância / Correlação"
      ],
      "metadata": {
        "id": "hHGCzK7HuZkV"
      }
    },
    {
      "cell_type": "code",
      "execution_count": 22,
      "metadata": {
        "id": "rzu0_aWq3StT"
      },
      "outputs": [],
      "source": [
        "# Importando as bibliotecas necessárias para análise dos dados\n",
        "import pandas as pd\n",
        "import numpy as np\n",
        "import matplotlib.pyplot as plt\n",
        "import seaborn as sns\n"
      ]
    },
    {
      "cell_type": "code",
      "source": [
        "# Importando o arquivo pelo Google Drive\n",
        "from google.colab import drive"
      ],
      "metadata": {
        "id": "pZ8YwAPaEI3d"
      },
      "execution_count": 23,
      "outputs": []
    },
    {
      "cell_type": "code",
      "source": [
        "# Carregando arquivo de MEMBROS\n",
        "\n",
        "def importar_csv_membro():\n",
        "\n",
        "    drive.mount('/content/drive')\n",
        "\n",
        "    caminho_arquivo = \"/content/drive/My Drive/Colab Notebooks/MBA_Est_Desc_dados/MEMBRO.csv\"\n",
        "\n",
        "    try:\n",
        "        df = pd.read_csv(caminho_arquivo, sep=';', encoding='utf-8')\n",
        "        print(\"Arquivo carregado com sucesso!\")\n",
        "        print(\"\\nInformações gerais:\")\n",
        "        print(df.info())\n",
        "        print(\"\\nDescrição estatística:\")\n",
        "        print(df.describe())\n",
        "        return df\n",
        "    except pd.errors.EmptyDataError:\n",
        "        print(\"Erro: O arquivo está vazio.\")\n",
        "        return None\n",
        "    except pd.errors.ParserError:\n",
        "        print(\"Erro: Problema ao processar o arquivo CSV.\")\n",
        "        return None\n",
        "    except Exception as e:\n",
        "        print(f\"Erro inesperado: {e}\")\n",
        "        return None"
      ],
      "metadata": {
        "id": "4pY77JsjRQtT"
      },
      "execution_count": null,
      "outputs": []
    },
    {
      "cell_type": "code",
      "source": [
        "df_membro = importar_csv_membro()"
      ],
      "metadata": {
        "id": "Hxl0LxjbRlvT"
      },
      "execution_count": null,
      "outputs": []
    },
    {
      "cell_type": "code",
      "source": [
        "# Carregando arquivo de RENDA\n",
        "\n",
        "def importar_csv_renda():\n",
        "\n",
        "    drive.mount('/content/drive')\n",
        "\n",
        "    caminho_arquivo = \"/content/drive/My Drive/Colab Notebooks/MBA_Est_Desc_dados/RENDA.csv\"\n",
        "\n",
        "    try:\n",
        "        df = pd.read_csv(caminho_arquivo, sep=';', encoding='utf-8')\n",
        "        print(\"Arquivo carregado com sucesso!\")\n",
        "        print(\"\\nInformações gerais:\")\n",
        "        print(df.info())\n",
        "        print(\"\\nDescrição estatística:\")\n",
        "        print(df.describe())\n",
        "        return df\n",
        "    except pd.errors.EmptyDataError:\n",
        "        print(\"Erro: O arquivo está vazio.\")\n",
        "        return None\n",
        "    except pd.errors.ParserError:\n",
        "        print(\"Erro: Problema ao processar o arquivo CSV.\")\n",
        "        return None\n",
        "    except Exception as e:\n",
        "        print(f\"Erro inesperado: {e}\")\n",
        "        return None"
      ],
      "metadata": {
        "id": "bSSKUP9PRsSr"
      },
      "execution_count": null,
      "outputs": []
    },
    {
      "cell_type": "code",
      "source": [
        "df_renda = importar_csv_renda()"
      ],
      "metadata": {
        "id": "IuXBpxDpRsGG"
      },
      "execution_count": null,
      "outputs": []
    },
    {
      "cell_type": "code",
      "source": [
        "# Carregando arquivo de área\n",
        "drive.mount('/content/drive')\n",
        "\n",
        "df_area = pd.read_csv(\"/content/drive/My Drive/Colab Notebooks/MBA_Est_Desc_dados/AREA.csv\", sep=';', encoding='utf-8')\n",
        "print(\"Arquivo carregado com sucesso!\")\n",
        "print(\"\\nInformações gerais:\")\n",
        "print(df_area.info())\n",
        "print(\"\\nDescrição estatística:\")\n",
        "print(df_area.describe())\n"
      ],
      "metadata": {
        "id": "pJzJuhRmuU6Z",
        "outputId": "f374cd99-0f88-4f78-adc0-a1b23e95c1f6",
        "colab": {
          "base_uri": "https://localhost:8080/"
        }
      },
      "execution_count": 31,
      "outputs": [
        {
          "output_type": "stream",
          "name": "stdout",
          "text": [
            "Drive already mounted at /content/drive; to attempt to forcibly remount, call drive.mount(\"/content/drive\", force_remount=True).\n",
            "Arquivo carregado com sucesso!\n",
            "\n",
            "Informações gerais:\n",
            "<class 'pandas.core.frame.DataFrame'>\n",
            "RangeIndex: 2587032 entries, 0 to 2587031\n",
            "Data columns (total 5 columns):\n",
            " #   Column            Dtype \n",
            "---  ------            ----- \n",
            " 0   CAF               object\n",
            " 1   UF                object\n",
            " 2   MUNICIPIO         object\n",
            " 3   IMOVEL_PRINCIPAL  object\n",
            " 4   USO_TERRA         object\n",
            "dtypes: object(5)\n",
            "memory usage: 98.7+ MB\n",
            "None\n",
            "\n",
            "Descrição estatística:\n",
            "                             CAF       UF MUNICIPIO IMOVEL_PRINCIPAL  \\\n",
            "count                    2587032  2587032   2587032          2587032   \n",
            "unique                   2365365       28      5251                2   \n",
            "top     SE012025.01.002554986CAF       BA  OURICURI              SIM   \n",
            "freq                          21   458615      8910          2365363   \n",
            "\n",
            "           USO_TERRA  \n",
            "count        2587032  \n",
            "unique            11  \n",
            "top     PROPRIETÁRIO  \n",
            "freq          693109  \n"
          ]
        }
      ]
    },
    {
      "cell_type": "markdown",
      "source": [],
      "metadata": {
        "id": "9xWa9JusuYBD"
      }
    }
  ]
}